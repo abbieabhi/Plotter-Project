{
 "cells": [
  {
   "cell_type": "code",
   "execution_count": 1,
   "id": "23822d74",
   "metadata": {},
   "outputs": [],
   "source": [
    "import numpy as np\n",
    "import pandas as pd\n",
    "import chart_studio.plotly as py\n",
    "import plotly.offline as po\n",
    "import cufflinks as cf"
   ]
  },
  {
   "cell_type": "code",
   "execution_count": 2,
   "id": "933a3598",
   "metadata": {},
   "outputs": [
    {
     "data": {
      "text/html": [
       "        <script type=\"text/javascript\">\n",
       "        window.PlotlyConfig = {MathJaxConfig: 'local'};\n",
       "        if (window.MathJax) {MathJax.Hub.Config({SVG: {font: \"STIX-Web\"}});}\n",
       "        if (typeof require !== 'undefined') {\n",
       "        require.undef(\"plotly\");\n",
       "        requirejs.config({\n",
       "            paths: {\n",
       "                'plotly': ['https://cdn.plot.ly/plotly-latest.min']\n",
       "            }\n",
       "        });\n",
       "        require(['plotly'], function(Plotly) {\n",
       "            window._Plotly = Plotly;\n",
       "        });\n",
       "        }\n",
       "        </script>\n",
       "        "
      ]
     },
     "metadata": {},
     "output_type": "display_data"
    },
    {
     "data": {
      "text/html": [
       "        <script type=\"text/javascript\">\n",
       "        window.PlotlyConfig = {MathJaxConfig: 'local'};\n",
       "        if (window.MathJax) {MathJax.Hub.Config({SVG: {font: \"STIX-Web\"}});}\n",
       "        if (typeof require !== 'undefined') {\n",
       "        require.undef(\"plotly\");\n",
       "        requirejs.config({\n",
       "            paths: {\n",
       "                'plotly': ['https://cdn.plot.ly/plotly-latest.min']\n",
       "            }\n",
       "        });\n",
       "        require(['plotly'], function(Plotly) {\n",
       "            window._Plotly = Plotly;\n",
       "        });\n",
       "        }\n",
       "        </script>\n",
       "        "
      ]
     },
     "metadata": {},
     "output_type": "display_data"
    }
   ],
   "source": [
    "po.init_notebook_mode(connected = True)\n",
    "cf.go_offline()"
   ]
  },
  {
   "cell_type": "code",
   "execution_count": 3,
   "id": "8202e5cf",
   "metadata": {},
   "outputs": [],
   "source": [
    "def createData(ch):\n",
    "    if ch==1:\n",
    "        df1 = pd.DataFrame(np.random.rand(100,5),columns = ['A','B','C','D','E'])\n",
    "    elif ch==2:\n",
    "        values = np.zeros((4,5))\n",
    "        print('Enter the values for the 4 rows in Left to Right,Up to Down format: ')\n",
    "        for i in range(0,4):\n",
    "            for j in range(0,5):\n",
    "                values[i][j] = int(input())\n",
    "        cn = [0,0,0,0,0]\n",
    "        print('Name each of the columns: ')\n",
    "        for i in range(len(cn)):\n",
    "            cn[i] = input()\n",
    "        df1 = pd.DataFrame(values,columns = cn)\n",
    "    elif ch==3:\n",
    "        name = input('Enter the name of your file: ')\n",
    "        fileOpen = pd.read_csv(name)\n",
    "        df1 = pd.DataFrame(fileOpen)\n",
    "    else:\n",
    "        print('Enter a valid input data.')\n",
    "        \n",
    "    return df1"
   ]
  },
  {
   "cell_type": "code",
   "execution_count": 4,
   "id": "57775950",
   "metadata": {},
   "outputs": [],
   "source": [
    "def pl(c):\n",
    "    dc = {1:\"df1.iplot(kind='scatter')\",2:\"df1.iplot(kind='scatter',mode='markers' ,symbol='x',colorscale='paired')\",\n",
    "          3:\"df1.iplot(kind='bar')\",4:\"df1.iplot(kind='hist')\",5:\"df1.iplot(kind='box')\",6:\"df1.iplot(kind='surface')\"}\n",
    "    fp = dc[c]\n",
    "    print(fp)\n",
    "    if c not in [1,2,3,4,5,6]:\n",
    "        print('Enter a number between 1 to 6 only.')\n",
    "    return exec(fp)"
   ]
  },
  {
   "cell_type": "code",
   "execution_count": 5,
   "id": "08f1a300",
   "metadata": {},
   "outputs": [],
   "source": [
    "def pl2(c):\n",
    "    col = int(input('How many columns do you want to plot (1,2,3). Enter your choice: '))\n",
    "    if(col==1):\n",
    "        colm = input('Enter the name of the column from data head to plot: ')\n",
    "        dc = {1:\"df1[colm].iplot(kind='scatter')\",\n",
    "              2:\"df1[colm].iplot(kind='scatter',mode='markers' ,symbol='x',colorscale='paired')\",\n",
    "          3:\"df1[colm].iplot(kind='bar')\",4:\"df1[colm].iplot(kind='hist')\",5:\"df1[colm].iplot(kind='box')\"}\n",
    "        fp = dc[c]\n",
    "        if c == 6 or c == 7:\n",
    "            fp = \"print('Bubble Plot and Surface Plot require more than one columns to be plotted.')\"\n",
    "        elif c not in [1,2,3,4,5,6,7]:\n",
    "            fp = \"print('Select values bbetween 1 to 7 only.')\"\n",
    "    elif(col==2):\n",
    "        print('Enter the name of the column to be plotted refering data head.')\n",
    "        x = input('Column 1: ')\n",
    "        y = input('Column 2: ')\n",
    "        if c ==7:\n",
    "            size = input('Enter the size for bubble plot: ')\n",
    "        dc = {1:\"df1[[x,y]].iplot(kind='scatter')\",\n",
    "              2:\"df1[[x,y]].iplot(kind='scatter',mode='markers' ,symbol='x',colorscale='paired')\",\n",
    "          3:\"df1[[x,y]].iplot(kind='bar')\",4:\"df1[[x,y]].iplot(kind='hist')\",\n",
    "              5:\"df1[[x,y]].iplot(kind='box')\",6:\"df1[[x,y]].iplot(kind='surface')\",\n",
    "             7:\"df1.iplot(kind='bubble' , x=x,y=y,size=size)\"}\n",
    "        fp = dc[c]\n",
    "        if c not in [1,2,3,4,5,6,7]:\n",
    "            fp = \"print('Select only between 1 to 7')\"\n",
    "    elif(col==3):\n",
    "        print('Enter the name of the column to be plotted refering data head.')\n",
    "        x = input('Column 1: ')\n",
    "        y = input('Column 2: ')\n",
    "        z = input('Column 3: ')\n",
    "        if c ==7:\n",
    "            size = input('Enter the size for bubble plot: ')\n",
    "        dc = {1:\"df1[[x,y,z]].iplot(kind='scatter')\",\n",
    "              2:\"df1[[x,y,z]].iplot(kind='scatter',mode='markers' ,symbol='x',colorscale='paired')\",\n",
    "              3:\"df1[[x,y,z]].iplot(kind='bar')\",4:\"df1[[x,y,z]].iplot(kind='hist')\",5:\"df1[[x,y,z]].iplot(kind='box')\",\n",
    "            6:\"df1[[x,y,z]].iplot(kind='surface')\",7:\"df1.iplot(kind='bubble' , x=x,y=y,z=z,size=size)\"}\n",
    "        fp = dc[c]\n",
    "        if c not in [1,2,3,4,5,6,7]:\n",
    "            fp = \"print('Select only between 1 to 7')\"\n",
    "    else:\n",
    "        fp = \"print('Please enter only 1 , 2 or 3')\"\n",
    "    return exec(fp)"
   ]
  },
  {
   "cell_type": "code",
   "execution_count": 6,
   "id": "99e500af",
   "metadata": {},
   "outputs": [],
   "source": [
    "def main(cat):\n",
    "    if(cat == 1):\n",
    "        print('Select the type of plot you need to plot by writing 1 to 6. \\n1.Line Plot \\n2.Scatter Plot \\n3. Bar Plot\\\n",
    "        \\n4.Histogram \\n5.Box Plot \\n6.Surface Plot')\n",
    "        plot = int(input('Enter your choice: '))\n",
    "        output = pl(plot)\n",
    "    elif(cat == 2):\n",
    "        print('Select the type of plot you need to plot by writing 1 to 7 \\n1.Line plot \\n2.Scatter Plot \\n3. Bar Plot\\\n",
    "        \\n4.Histogram \\n5.Box Plot \\n6.Surface Plot \\n7.Bubble Plot')\n",
    "        plot = int(input('Enter your choice: '))\n",
    "        output = pl2(plot)\n",
    "    else:\n",
    "        print('Please enter 1 or 2 and try again') "
   ]
  },
  {
   "cell_type": "code",
   "execution_count": null,
   "id": "1724e732",
   "metadata": {
    "scrolled": true
   },
   "outputs": [],
   "source": [
    "print('Select the type of data you need to plot.(Enter 1,2 or 3 as required):  ')\n",
    "print('1.Random data (100 rows and 5 columns)')\n",
    "print('2.User input data (5 columns as 4 rows)')\n",
    "print('3.Upload a csv file as data.')\n",
    "choice = int(input())\n",
    "df1 = createData(choice)"
   ]
  },
  {
   "cell_type": "code",
   "execution_count": null,
   "id": "51432bd2",
   "metadata": {},
   "outputs": [],
   "source": [
    "print('The head of data created is given below. Check the columns you want to plot using cufflinks.')\n",
    "df1.head()"
   ]
  },
  {
   "cell_type": "code",
   "execution_count": null,
   "id": "6733ab22",
   "metadata": {},
   "outputs": [],
   "source": [
    "cat = int(input('Enter the type of plot you want. For all of the data press 1, for selected columns press 2: '))"
   ]
  },
  {
   "cell_type": "code",
   "execution_count": null,
   "id": "2f072058",
   "metadata": {},
   "outputs": [],
   "source": [
    "main(cat)"
   ]
  }
 ],
 "metadata": {
  "kernelspec": {
   "display_name": "Python 3",
   "language": "python",
   "name": "python3"
  },
  "language_info": {
   "codemirror_mode": {
    "name": "ipython",
    "version": 3
   },
   "file_extension": ".py",
   "mimetype": "text/x-python",
   "name": "python",
   "nbconvert_exporter": "python",
   "pygments_lexer": "ipython3",
   "version": "3.8.5"
  }
 },
 "nbformat": 4,
 "nbformat_minor": 5
}
